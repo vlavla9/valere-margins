{
 "cells": [
  {
   "cell_type": "code",
   "execution_count": 41,
   "metadata": {},
   "outputs": [
    {
     "name": "stderr",
     "output_type": "stream",
     "text": [
      "huggingface/tokenizers: The current process just got forked, after parallelism has already been used. Disabling parallelism to avoid deadlocks...\n",
      "To disable this warning, you can either:\n",
      "\t- Avoid using `tokenizers` before the fork if possible\n",
      "\t- Explicitly set the environment variable TOKENIZERS_PARALLELISM=(true | false)\n"
     ]
    },
    {
     "name": "stdout",
     "output_type": "stream",
     "text": [
      "Defaulting to user installation because normal site-packages is not writeable\n",
      "Requirement already satisfied: openai in /Users/vidbebek/Library/Python/3.9/lib/python/site-packages (1.52.0)\n",
      "Requirement already satisfied: anyio<5,>=3.5.0 in /Users/vidbebek/Library/Python/3.9/lib/python/site-packages (from openai) (4.6.2.post1)\n",
      "Requirement already satisfied: distro<2,>=1.7.0 in /Users/vidbebek/Library/Python/3.9/lib/python/site-packages (from openai) (1.9.0)\n",
      "Requirement already satisfied: httpx<1,>=0.23.0 in /Users/vidbebek/Library/Python/3.9/lib/python/site-packages (from openai) (0.27.2)\n",
      "Requirement already satisfied: jiter<1,>=0.4.0 in /Users/vidbebek/Library/Python/3.9/lib/python/site-packages (from openai) (0.6.1)\n",
      "Requirement already satisfied: pydantic<3,>=1.9.0 in /Users/vidbebek/Library/Python/3.9/lib/python/site-packages (from openai) (2.9.2)\n",
      "Requirement already satisfied: sniffio in /Users/vidbebek/Library/Python/3.9/lib/python/site-packages (from openai) (1.3.1)\n",
      "Requirement already satisfied: tqdm>4 in /Users/vidbebek/Library/Python/3.9/lib/python/site-packages (from openai) (4.66.5)\n",
      "Requirement already satisfied: typing-extensions<5,>=4.11 in /Users/vidbebek/Library/Python/3.9/lib/python/site-packages (from openai) (4.12.2)\n",
      "Requirement already satisfied: idna>=2.8 in /Users/vidbebek/Library/Python/3.9/lib/python/site-packages (from anyio<5,>=3.5.0->openai) (3.10)\n",
      "Requirement already satisfied: exceptiongroup>=1.0.2 in /Users/vidbebek/Library/Python/3.9/lib/python/site-packages (from anyio<5,>=3.5.0->openai) (1.2.2)\n",
      "Requirement already satisfied: certifi in /Users/vidbebek/Library/Python/3.9/lib/python/site-packages (from httpx<1,>=0.23.0->openai) (2024.8.30)\n",
      "Requirement already satisfied: httpcore==1.* in /Users/vidbebek/Library/Python/3.9/lib/python/site-packages (from httpx<1,>=0.23.0->openai) (1.0.6)\n",
      "Requirement already satisfied: h11<0.15,>=0.13 in /Users/vidbebek/Library/Python/3.9/lib/python/site-packages (from httpcore==1.*->httpx<1,>=0.23.0->openai) (0.14.0)\n",
      "Requirement already satisfied: annotated-types>=0.6.0 in /Users/vidbebek/Library/Python/3.9/lib/python/site-packages (from pydantic<3,>=1.9.0->openai) (0.7.0)\n",
      "Requirement already satisfied: pydantic-core==2.23.4 in /Users/vidbebek/Library/Python/3.9/lib/python/site-packages (from pydantic<3,>=1.9.0->openai) (2.23.4)\n",
      "Note: you may need to restart the kernel to use updated packages.\n"
     ]
    },
    {
     "name": "stderr",
     "output_type": "stream",
     "text": [
      "huggingface/tokenizers: The current process just got forked, after parallelism has already been used. Disabling parallelism to avoid deadlocks...\n",
      "To disable this warning, you can either:\n",
      "\t- Avoid using `tokenizers` before the fork if possible\n",
      "\t- Explicitly set the environment variable TOKENIZERS_PARALLELISM=(true | false)\n"
     ]
    },
    {
     "name": "stdout",
     "output_type": "stream",
     "text": [
      "Defaulting to user installation because normal site-packages is not writeable\n",
      "Requirement already satisfied: langchain-community in /Users/vidbebek/Library/Python/3.9/lib/python/site-packages (0.3.3)\n",
      "Requirement already satisfied: langchain-core in /Users/vidbebek/Library/Python/3.9/lib/python/site-packages (0.3.12)\n",
      "Requirement already satisfied: PyYAML>=5.3 in /Users/vidbebek/Library/Python/3.9/lib/python/site-packages (from langchain-community) (6.0.2)\n",
      "Requirement already satisfied: SQLAlchemy<3,>=1.4 in /Users/vidbebek/Library/Python/3.9/lib/python/site-packages (from langchain-community) (2.0.36)\n",
      "Requirement already satisfied: aiohttp<4.0.0,>=3.8.3 in /Users/vidbebek/Library/Python/3.9/lib/python/site-packages (from langchain-community) (3.10.10)\n",
      "Requirement already satisfied: dataclasses-json<0.7,>=0.5.7 in /Users/vidbebek/Library/Python/3.9/lib/python/site-packages (from langchain-community) (0.6.7)\n",
      "Requirement already satisfied: langchain<0.4.0,>=0.3.4 in /Users/vidbebek/Library/Python/3.9/lib/python/site-packages (from langchain-community) (0.3.4)\n",
      "Requirement already satisfied: langsmith<0.2.0,>=0.1.125 in /Users/vidbebek/Library/Python/3.9/lib/python/site-packages (from langchain-community) (0.1.136)\n",
      "Requirement already satisfied: numpy<2,>=1 in /Users/vidbebek/Library/Python/3.9/lib/python/site-packages (from langchain-community) (1.26.4)\n",
      "Requirement already satisfied: pydantic-settings<3.0.0,>=2.4.0 in /Users/vidbebek/Library/Python/3.9/lib/python/site-packages (from langchain-community) (2.6.0)\n",
      "Requirement already satisfied: requests<3,>=2 in /Users/vidbebek/Library/Python/3.9/lib/python/site-packages (from langchain-community) (2.32.3)\n",
      "Requirement already satisfied: tenacity!=8.4.0,<10,>=8.1.0 in /Users/vidbebek/Library/Python/3.9/lib/python/site-packages (from langchain-community) (9.0.0)\n",
      "Requirement already satisfied: jsonpatch<2.0,>=1.33 in /Users/vidbebek/Library/Python/3.9/lib/python/site-packages (from langchain-core) (1.33)\n",
      "Requirement already satisfied: packaging<25,>=23.2 in /Users/vidbebek/Library/Python/3.9/lib/python/site-packages (from langchain-core) (24.1)\n",
      "Requirement already satisfied: pydantic<3.0.0,>=2.5.2 in /Users/vidbebek/Library/Python/3.9/lib/python/site-packages (from langchain-core) (2.9.2)\n",
      "Requirement already satisfied: typing-extensions>=4.7 in /Users/vidbebek/Library/Python/3.9/lib/python/site-packages (from langchain-core) (4.12.2)\n",
      "Requirement already satisfied: aiohappyeyeballs>=2.3.0 in /Users/vidbebek/Library/Python/3.9/lib/python/site-packages (from aiohttp<4.0.0,>=3.8.3->langchain-community) (2.4.3)\n",
      "Requirement already satisfied: aiosignal>=1.1.2 in /Users/vidbebek/Library/Python/3.9/lib/python/site-packages (from aiohttp<4.0.0,>=3.8.3->langchain-community) (1.3.1)\n",
      "Requirement already satisfied: attrs>=17.3.0 in /Users/vidbebek/Library/Python/3.9/lib/python/site-packages (from aiohttp<4.0.0,>=3.8.3->langchain-community) (24.2.0)\n",
      "Requirement already satisfied: frozenlist>=1.1.1 in /Users/vidbebek/Library/Python/3.9/lib/python/site-packages (from aiohttp<4.0.0,>=3.8.3->langchain-community) (1.4.1)\n",
      "Requirement already satisfied: multidict<7.0,>=4.5 in /Users/vidbebek/Library/Python/3.9/lib/python/site-packages (from aiohttp<4.0.0,>=3.8.3->langchain-community) (6.1.0)\n",
      "Requirement already satisfied: yarl<2.0,>=1.12.0 in /Users/vidbebek/Library/Python/3.9/lib/python/site-packages (from aiohttp<4.0.0,>=3.8.3->langchain-community) (1.15.5)\n",
      "Requirement already satisfied: async-timeout<5.0,>=4.0 in /Users/vidbebek/Library/Python/3.9/lib/python/site-packages (from aiohttp<4.0.0,>=3.8.3->langchain-community) (4.0.3)\n",
      "Requirement already satisfied: marshmallow<4.0.0,>=3.18.0 in /Users/vidbebek/Library/Python/3.9/lib/python/site-packages (from dataclasses-json<0.7,>=0.5.7->langchain-community) (3.23.0)\n",
      "Requirement already satisfied: typing-inspect<1,>=0.4.0 in /Users/vidbebek/Library/Python/3.9/lib/python/site-packages (from dataclasses-json<0.7,>=0.5.7->langchain-community) (0.9.0)\n",
      "Requirement already satisfied: jsonpointer>=1.9 in /Users/vidbebek/Library/Python/3.9/lib/python/site-packages (from jsonpatch<2.0,>=1.33->langchain-core) (3.0.0)\n",
      "Requirement already satisfied: langchain-text-splitters<0.4.0,>=0.3.0 in /Users/vidbebek/Library/Python/3.9/lib/python/site-packages (from langchain<0.4.0,>=0.3.4->langchain-community) (0.3.0)\n",
      "Requirement already satisfied: httpx<1,>=0.23.0 in /Users/vidbebek/Library/Python/3.9/lib/python/site-packages (from langsmith<0.2.0,>=0.1.125->langchain-community) (0.27.2)\n",
      "Requirement already satisfied: orjson<4.0.0,>=3.9.14 in /Users/vidbebek/Library/Python/3.9/lib/python/site-packages (from langsmith<0.2.0,>=0.1.125->langchain-community) (3.10.9)\n",
      "Requirement already satisfied: requests-toolbelt<2.0.0,>=1.0.0 in /Users/vidbebek/Library/Python/3.9/lib/python/site-packages (from langsmith<0.2.0,>=0.1.125->langchain-community) (1.0.0)\n",
      "Requirement already satisfied: annotated-types>=0.6.0 in /Users/vidbebek/Library/Python/3.9/lib/python/site-packages (from pydantic<3.0.0,>=2.5.2->langchain-core) (0.7.0)\n",
      "Requirement already satisfied: pydantic-core==2.23.4 in /Users/vidbebek/Library/Python/3.9/lib/python/site-packages (from pydantic<3.0.0,>=2.5.2->langchain-core) (2.23.4)\n",
      "Requirement already satisfied: python-dotenv>=0.21.0 in /Users/vidbebek/Library/Python/3.9/lib/python/site-packages (from pydantic-settings<3.0.0,>=2.4.0->langchain-community) (1.0.1)\n",
      "Requirement already satisfied: charset-normalizer<4,>=2 in /Users/vidbebek/Library/Python/3.9/lib/python/site-packages (from requests<3,>=2->langchain-community) (3.4.0)\n",
      "Requirement already satisfied: idna<4,>=2.5 in /Users/vidbebek/Library/Python/3.9/lib/python/site-packages (from requests<3,>=2->langchain-community) (3.10)\n",
      "Requirement already satisfied: urllib3<3,>=1.21.1 in /Users/vidbebek/Library/Python/3.9/lib/python/site-packages (from requests<3,>=2->langchain-community) (2.2.3)\n",
      "Requirement already satisfied: certifi>=2017.4.17 in /Users/vidbebek/Library/Python/3.9/lib/python/site-packages (from requests<3,>=2->langchain-community) (2024.8.30)\n",
      "Requirement already satisfied: anyio in /Users/vidbebek/Library/Python/3.9/lib/python/site-packages (from httpx<1,>=0.23.0->langsmith<0.2.0,>=0.1.125->langchain-community) (4.6.2.post1)\n",
      "Requirement already satisfied: httpcore==1.* in /Users/vidbebek/Library/Python/3.9/lib/python/site-packages (from httpx<1,>=0.23.0->langsmith<0.2.0,>=0.1.125->langchain-community) (1.0.6)\n",
      "Requirement already satisfied: sniffio in /Users/vidbebek/Library/Python/3.9/lib/python/site-packages (from httpx<1,>=0.23.0->langsmith<0.2.0,>=0.1.125->langchain-community) (1.3.1)\n",
      "Requirement already satisfied: h11<0.15,>=0.13 in /Users/vidbebek/Library/Python/3.9/lib/python/site-packages (from httpcore==1.*->httpx<1,>=0.23.0->langsmith<0.2.0,>=0.1.125->langchain-community) (0.14.0)\n",
      "Requirement already satisfied: mypy-extensions>=0.3.0 in /Users/vidbebek/Library/Python/3.9/lib/python/site-packages (from typing-inspect<1,>=0.4.0->dataclasses-json<0.7,>=0.5.7->langchain-community) (1.0.0)\n",
      "Requirement already satisfied: propcache>=0.2.0 in /Users/vidbebek/Library/Python/3.9/lib/python/site-packages (from yarl<2.0,>=1.12.0->aiohttp<4.0.0,>=3.8.3->langchain-community) (0.2.0)\n",
      "Requirement already satisfied: exceptiongroup>=1.0.2 in /Users/vidbebek/Library/Python/3.9/lib/python/site-packages (from anyio->httpx<1,>=0.23.0->langsmith<0.2.0,>=0.1.125->langchain-community) (1.2.2)\n",
      "Note: you may need to restart the kernel to use updated packages.\n"
     ]
    }
   ],
   "source": [
    "%pip install openai\n",
    "# %pip install langchain openai\n",
    "# %pip install -qU langchain-openai\n",
    "%pip install langchain-community langchain-core"
   ]
  },
  {
   "cell_type": "code",
   "execution_count": 42,
   "metadata": {},
   "outputs": [],
   "source": [
    "from sentence_transformers import SentenceTransformer\n",
    "import faiss\n",
    "import pickle\n",
    "from langchain import LLMChain\n",
    "from langchain.chat_models import ChatOpenAI\n",
    "from langchain.prompts import ChatPromptTemplate, MessagesPlaceholder\n",
    "from langchain.schema import HumanMessage, SystemMessage, AIMessage\n",
    "import os"
   ]
  },
  {
   "cell_type": "code",
   "execution_count": 43,
   "metadata": {},
   "outputs": [],
   "source": [
    "class QueryService:\n",
    "    def __init__(self, index):\n",
    "        self.index = index  \n",
    "        self.model = SentenceTransformer('paraphrase-MiniLM-L6-v2')  \n",
    "    \n",
    "    def retrieve(self, query, k=5):\n",
    "        query_vector = self.model.encode([query])\n",
    "        D, I = self.index.search(query_vector, k)        \n",
    "        return I, D\n",
    "    \n",
    "    def make_context(self, indexes, chunks):\n",
    "        relevant_chunks = []\n",
    "        for row in indexes:\n",
    "            for i in row:\n",
    "                relevant_chunks.append(chunks[i])\n",
    "\n",
    "        context = \" \".join(relevant_chunks)\n",
    "        return context\n",
    "    \n",
    "class DataLoader:\n",
    "    def __init__(self):\n",
    "        pass\n",
    "\n",
    "    def load_chunks(self):\n",
    "        with open('chunks.pkl', 'rb') as f:\n",
    "            chunks = pickle.load(f)\n",
    "\n",
    "        return chunks\n",
    "    \n",
    "    def load_faiss_index(self):\n",
    "        return faiss.read_index('faiss_index.index')\n",
    "    \n",
    "class Model():\n",
    "    def __init__(self):\n",
    "        prompt_template = ChatPromptTemplate.from_messages([\n",
    "            MessagesPlaceholder(\"user_query\"),\n",
    "            MessagesPlaceholder(\"context\")\n",
    "        ])\n",
    "        llm = ChatOpenAI(model_name=\"gpt-3.5-turbo\")\n",
    "        self.chain = LLMChain(llm=llm, prompt=prompt_template)\n",
    "\n",
    "    def answer(self, query, context):\n",
    "        query = [HumanMessage(content=query)]\n",
    "        context = [SystemMessage(content=context)]\n",
    "\n",
    "        response = self.chain.run({\n",
    "            \"user_query\": query,  \n",
    "            \"context\": context  \n",
    "        })\n",
    "        \n",
    "        return response\n"
   ]
  },
  {
   "cell_type": "code",
   "execution_count": 44,
   "metadata": {},
   "outputs": [],
   "source": [
    "os.environ[\"OPENAI_API_KEY\"] = \"\"\n",
    "\n",
    "dataLoader = DataLoader()\n",
    "chunks = dataLoader.load_chunks()\n",
    "index = dataLoader.load_faiss_index()\n",
    "queryService = QueryService(index)\n",
    "\n",
    "user_query = 'Why space mission data is not immediately available?'\n",
    "\n",
    "I, D = queryService.retrieve(user_query)\n",
    "\n",
    "context = queryService.make_context(I, chunks)"
   ]
  },
  {
   "cell_type": "code",
   "execution_count": 45,
   "metadata": {},
   "outputs": [
    {
     "name": "stdout",
     "output_type": "stream",
     "text": [
      "Space mission data is not immediately available for several reasons:\n",
      "\n",
      "1. Data processing: Raw data collected from space missions needs to be processed, analyzed, and verified before it can be released to the public. This process can take time to ensure accuracy and reliability.\n",
      "\n",
      "2. Communication delays: Space missions often involve communication with spacecraft that are far away from Earth. Data must be transmitted back to Earth, which can take time due to the vast distances involved.\n",
      "\n",
      "3. Security and confidentiality: Some space mission data may be sensitive or classified, requiring careful review and approval before it can be released to the public.\n",
      "\n",
      "4. Collaboration and coordination: Space missions are often conducted by international teams or involve multiple organizations working together. Data sharing agreements and coordination efforts may need to be finalized before data can be made public.\n",
      "\n",
      "5. Quality control: Space agencies and research institutions have strict quality control processes in place to ensure that data is accurate and reliable. This can add time to the release of mission data.\n"
     ]
    }
   ],
   "source": [
    "model = Model()\n",
    "response = model.answer(user_query, context)\n",
    "print(response)"
   ]
  }
 ],
 "metadata": {
  "kernelspec": {
   "display_name": "Python 3",
   "language": "python",
   "name": "python3"
  },
  "language_info": {
   "codemirror_mode": {
    "name": "ipython",
    "version": 3
   },
   "file_extension": ".py",
   "mimetype": "text/x-python",
   "name": "python",
   "nbconvert_exporter": "python",
   "pygments_lexer": "ipython3",
   "version": "3.9.6"
  }
 },
 "nbformat": 4,
 "nbformat_minor": 2
}
