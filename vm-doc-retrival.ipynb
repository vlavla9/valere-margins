{
 "cells": [
  {
   "cell_type": "code",
   "execution_count": 10,
   "metadata": {},
   "outputs": [],
   "source": [
    "from sentence_transformers import SentenceTransformer\n",
    "import faiss\n",
    "import pickle\n",
    "from langchain import LLMChain\n",
    "from langchain.chat_models import ChatOpenAI\n",
    "from langchain.prompts import ChatPromptTemplate, MessagesPlaceholder\n",
    "from langchain.schema import HumanMessage, SystemMessage, AIMessage\n",
    "import os"
   ]
  },
  {
   "cell_type": "code",
   "execution_count": 43,
   "metadata": {},
   "outputs": [],
   "source": [
    "class QueryService:\n",
    "    def __init__(self, index):\n",
    "        self.index = index  \n",
    "        self.model = SentenceTransformer('paraphrase-MiniLM-L6-v2')  \n",
    "    \n",
    "    def retrieve(self, query, k=5):\n",
    "        query_vector = self.model.encode([query])\n",
    "        D, I = self.index.search(query_vector, k)        \n",
    "        return I, D\n",
    "    \n",
    "    def make_context(self, indexes, chunks):\n",
    "        relevant_chunks = []\n",
    "        for row in indexes:\n",
    "            for i in row:\n",
    "                relevant_chunks.append(chunks[i])\n",
    "\n",
    "        context = \" \".join(relevant_chunks)\n",
    "        return context\n",
    "    \n",
    "class DataLoader:\n",
    "    def __init__(self):\n",
    "        pass\n",
    "\n",
    "    def load_chunks(self):\n",
    "        with open('chunks.pkl', 'rb') as f:\n",
    "            chunks = pickle.load(f)\n",
    "\n",
    "        return chunks\n",
    "    \n",
    "    def load_faiss_index(self):\n",
    "        return faiss.read_index('faiss_index.index')\n",
    "    \n",
    "class Model():\n",
    "    def __init__(self):\n",
    "        prompt_template = ChatPromptTemplate.from_messages([\n",
    "            MessagesPlaceholder(\"user_query\"),\n",
    "            MessagesPlaceholder(\"context\")\n",
    "        ])\n",
    "        llm = ChatOpenAI(model_name=\"gpt-3.5-turbo\")\n",
    "        self.chain = LLMChain(llm=llm, prompt=prompt_template)\n",
    "\n",
    "    def answer(self, query, context):\n",
    "        query = [HumanMessage(content=query)]\n",
    "        context = [SystemMessage(content=context)]\n",
    "\n",
    "        response = self.chain.run({\n",
    "            \"user_query\": query,  \n",
    "            \"context\": context  \n",
    "        })\n",
    "        \n",
    "        return response\n"
   ]
  },
  {
   "cell_type": "code",
   "execution_count": 44,
   "metadata": {},
   "outputs": [],
   "source": [
    "os.environ[\"OPENAI_API_KEY\"] = \"\"\n",
    "\n",
    "dataLoader = DataLoader()\n",
    "chunks = dataLoader.load_chunks()\n",
    "index = dataLoader.load_faiss_index()\n",
    "queryService = QueryService(index)\n",
    "\n",
    "user_query = 'Why space mission data is not immediately available?'\n",
    "\n",
    "I, D = queryService.retrieve(user_query)\n",
    "\n",
    "context = queryService.make_context(I, chunks)"
   ]
  },
  {
   "cell_type": "code",
   "execution_count": 45,
   "metadata": {},
   "outputs": [
    {
     "name": "stdout",
     "output_type": "stream",
     "text": [
      "Space mission data is not immediately available for several reasons:\n",
      "\n",
      "1. Data processing: Raw data collected from space missions needs to be processed, analyzed, and verified before it can be released to the public. This process can take time to ensure accuracy and reliability.\n",
      "\n",
      "2. Communication delays: Space missions often involve communication with spacecraft that are far away from Earth. Data must be transmitted back to Earth, which can take time due to the vast distances involved.\n",
      "\n",
      "3. Security and confidentiality: Some space mission data may be sensitive or classified, requiring careful review and approval before it can be released to the public.\n",
      "\n",
      "4. Collaboration and coordination: Space missions are often conducted by international teams or involve multiple organizations working together. Data sharing agreements and coordination efforts may need to be finalized before data can be made public.\n",
      "\n",
      "5. Quality control: Space agencies and research institutions have strict quality control processes in place to ensure that data is accurate and reliable. This can add time to the release of mission data.\n"
     ]
    }
   ],
   "source": [
    "model = Model()\n",
    "response = model.answer(user_query, context)\n",
    "print(response)"
   ]
  }
 ],
 "metadata": {
  "kernelspec": {
   "display_name": "Python 3",
   "language": "python",
   "name": "python3"
  },
  "language_info": {
   "codemirror_mode": {
    "name": "ipython",
    "version": 3
   },
   "file_extension": ".py",
   "mimetype": "text/x-python",
   "name": "python",
   "nbconvert_exporter": "python",
   "pygments_lexer": "ipython3",
   "version": "3.12.4"
  }
 },
 "nbformat": 4,
 "nbformat_minor": 2
}
