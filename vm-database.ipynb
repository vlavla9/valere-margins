{
 "cells": [
  {
   "cell_type": "code",
   "execution_count": null,
   "metadata": {},
   "outputs": [],
   "source": [
    "%pip install langchain\n",
    "%pip install faiss-cpu\n",
    "%pip install sentence-transformers"
   ]
  },
  {
   "cell_type": "code",
   "execution_count": null,
   "metadata": {},
   "outputs": [],
   "source": [
    "import os\n",
    "import pickle\n",
    "from sentence_transformers import SentenceTransformer\n",
    "from langchain.text_splitter import RecursiveCharacterTextSplitter\n",
    "import faiss\n",
    "import numpy as np"
   ]
  },
  {
   "cell_type": "code",
   "execution_count": 3,
   "metadata": {},
   "outputs": [],
   "source": [
    "class DataHandler:\n",
    "    def __init__(self):\n",
    "        pass\n",
    "    \n",
    "    def ucitaj_dataset(self, directory):\n",
    "        text_data = []\n",
    "        for filename in os.listdir(directory):\n",
    "            if filename.endswith(\".txt\"):\n",
    "                filepath = os.path.join(directory, filename)\n",
    "                with open(filepath, 'r', encoding='ISO-8859-1') as file:\n",
    "                    text_data.append(file.read())\n",
    "        return text_data\n",
    "\n",
    "    def podijeli_na_chunkove(self, text_data, text_splitter):\n",
    "        chunks = []\n",
    "        for text in text_data:\n",
    "            chunks.extend(text_splitter.split_text(text))\n",
    "        \n",
    "        return chunks\n",
    "    \n",
    "    def zapisi_chunkove(self, chunks):\n",
    "        with open('chunks.pkl', 'wb') as f:\n",
    "            pickle.dump(chunks, f)"
   ]
  },
  {
   "cell_type": "code",
   "execution_count": 4,
   "metadata": {},
   "outputs": [
    {
     "name": "stdout",
     "output_type": "stream",
     "text": [
      "Zavrseno kreiranje baze\n"
     ]
    }
   ],
   "source": [
    "dataHandler = DataHandler()\n",
    "text_data = dataHandler.ucitaj_dataset('dataset')\n",
    "text_splitter = RecursiveCharacterTextSplitter(chunk_size=500, chunk_overlap=10, length_function=len)\n",
    "chunks = dataHandler.podijeli_na_chunkove(text_data, text_splitter)\n",
    "\n",
    "model = SentenceTransformer('paraphrase-MiniLM-L6-v2')\n",
    "chunk_vectors = model.encode(chunks)\n",
    "\n",
    "dim = chunk_vectors.shape[1]\n",
    "index = faiss.IndexFlatL2(dim)\n",
    "\n",
    "index.add(np.array(chunk_vectors))\n",
    "\n",
    "faiss.write_index(index, \"faiss_index.index\")\n",
    "\n",
    "dataHandler.zapisi_chunkove(chunks)\n",
    "\n",
    "print('Zavrseno kreiranje baze')"
   ]
  }
 ],
 "metadata": {
  "kernelspec": {
   "display_name": "Python 3",
   "language": "python",
   "name": "python3"
  },
  "language_info": {
   "codemirror_mode": {
    "name": "ipython",
    "version": 3
   },
   "file_extension": ".py",
   "mimetype": "text/x-python",
   "name": "python",
   "nbconvert_exporter": "python",
   "pygments_lexer": "ipython3",
   "version": "3.9.6"
  }
 },
 "nbformat": 4,
 "nbformat_minor": 2
}
